{
 "cells": [
  {
   "cell_type": "markdown",
   "metadata": {},
   "source": [
    "In this notebook I will explore and augment a custom dataset for entity recognition of cryptocurrencies scraped from reddit using my other project Dragonfly.\n",
    "\n",
    "https://huggingface.co/datasets/conll2003\n",
    "https://www.freecodecamp.org/news/getting-started-with-ner-models-using-huggingface/\n",
    "\n",
    "https://colab.research.google.com/github/abhimishra91/transformers-tutorials/blob/master/transformers_ner.ipynb#scrollTo=IV72GFgq_ZYb\n",
    "\n",
    "https://github.com/nlpyang/BertSum\n",
    "\n",
    "https://github.com/abhimishra91/transformers-tutorials"
   ]
  },
  {
   "cell_type": "code",
   "execution_count": null,
   "metadata": {},
   "outputs": [],
   "source": [
    "%load_ext autoreload\n",
    "%autoreload 2\n",
    "import os\n",
    "import tqdm\n",
    "from typing import List\n",
    "from transformers import AutoTokenizer, BertForTokenClassification\n",
    "from dotenv import load_dotenv\n",
    "load_dotenv()\n",
    "from pymongo import MongoClient\n",
    "client = MongoClient(os.getenv(\"MONGO_CONNECTION_STRING\"))\n",
    "db = client[\"dragonfly\"]\n",
    "\n",
    "import torch\n",
    "from torch.utils.data import Dataset, DataLoader\n",
    "from train.dragonfly_dataset.src import DragonflyDataset"
   ]
  },
  {
   "cell_type": "code",
   "execution_count": null,
   "metadata": {},
   "outputs": [],
   "source": [
    "# hyperparameters\n",
    "MODEL_NAME = \"distilbert-base-cased\"\n",
    "SEQ_MAX_LENGTH = 512\n",
    "TRAIN_BATCH_SIZE = 32\n",
    "VALID_BATCH_SIZE = 16\n",
    "EPOCHS = 5\n",
    "LEARNING_RATE = 2e-05\n",
    "# i have a gpu for ants so not even distilbert fits :(\n",
    "device = 'cpu' #torch.device('cuda' if torch.cuda.is_available() else 'cpu')\n",
    "device"
   ]
  },
  {
   "cell_type": "code",
   "execution_count": null,
   "metadata": {},
   "outputs": [],
   "source": [
    "tokenizer = AutoTokenizer.from_pretrained(MODEL_NAME)\n",
    "dt = DragonflyDataset(tokenizer, SEQ_MAX_LENGTH)\n",
    "dt.__len__()"
   ]
  },
  {
   "cell_type": "code",
   "execution_count": null,
   "metadata": {},
   "outputs": [],
   "source": [
    "class BERT_ner(torch.nn.Module):\n",
    "    def __init__(self):\n",
    "        super(BERT_ner, self).__init__()\n",
    "        self.l1 = BertForTokenClassification.from_pretrained(MODEL_NAME, num_labels=3)\n",
    "        # self.l2 = torch.nn.Dropout(0.3)\n",
    "        # self.l3 = torch.nn.Linear(768, 200)\n",
    "    \n",
    "    def forward(self, ids, mask, labels):\n",
    "        output_1= self.l1(ids, mask, labels = labels)\n",
    "        # output_2 = self.l2(output_1[0])\n",
    "        # output = self.l3(output_2)\n",
    "        return output_1\n",
    "model = BERT_ner()\n",
    "model.to(device)\n",
    "optimizer = torch.optim.Adam(params =  model.parameters(), lr=LEARNING_RATE)"
   ]
  },
  {
   "cell_type": "code",
   "execution_count": null,
   "metadata": {},
   "outputs": [],
   "source": [
    "train_params = {'batch_size': TRAIN_BATCH_SIZE,\n",
    "                'shuffle': True,\n",
    "                #'num_workers': 0\n",
    "                }\n",
    "training_loader = DataLoader(dt, **train_params)"
   ]
  },
  {
   "cell_type": "code",
   "execution_count": null,
   "metadata": {},
   "outputs": [],
   "source": [
    "def train(epoch):\n",
    "    model.train()\n",
    "    for _,data in enumerate(training_loader, 0):\n",
    "        ids = data['input_ids'].to(device, dtype = torch.long)\n",
    "        mask = data['attention_mask'].to(device, dtype = torch.long)\n",
    "        targets = data['tags'].to(device, dtype = torch.long)\n",
    "\n",
    "        loss = model(ids, mask, labels = targets)[0]\n",
    "\n",
    "        # optimizer.zero_grad()\n",
    "        if _%500==0:\n",
    "            print(f'Epoch: {epoch}, Loss:  {loss.item()}')\n",
    "        \n",
    "        optimizer.zero_grad()\n",
    "        loss.backward()\n",
    "        optimizer.step()\n",
    "        #xm.optimizer_step(optimizer)\n",
    "        #xm.mark_step() "
   ]
  },
  {
   "cell_type": "code",
   "execution_count": null,
   "metadata": {},
   "outputs": [],
   "source": [
    "for epoch in range(5):\n",
    "    train(epoch)"
   ]
  }
 ],
 "metadata": {
  "interpreter": {
   "hash": "294a1c64138946dea06e962a84f4621c3846e3b52ebf4546437821a75b530071"
  },
  "kernelspec": {
   "display_name": "Python 3.9.7 ('crypto-ner')",
   "language": "python",
   "name": "python3"
  },
  "language_info": {
   "codemirror_mode": {
    "name": "ipython",
    "version": 3
   },
   "file_extension": ".py",
   "mimetype": "text/x-python",
   "name": "python",
   "nbconvert_exporter": "python",
   "pygments_lexer": "ipython3",
   "version": "3.9.7"
  }
 },
 "nbformat": 4,
 "nbformat_minor": 2
}
